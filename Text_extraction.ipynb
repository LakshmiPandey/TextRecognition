{
  "nbformat": 4,
  "nbformat_minor": 0,
  "metadata": {
    "colab": {
      "name": "object_detection.ipynb",
      "version": "0.3.2",
      "provenance": [],
      "collapsed_sections": [],
      "include_colab_link": true
    },
    "kernelspec": {
      "name": "python3",
      "display_name": "Python 3"
    }
  },
  "cells": [
    {
      "cell_type": "markdown",
      "metadata": {
        "id": "view-in-github",
        "colab_type": "text"
      },
      "source": [
        "<a href=\"https://colab.research.google.com/github/aarna97pandey/Text-Extraction-from-Images/blob/master/Text_extraction.ipynb\" target=\"_parent\"><img src=\"https://colab.research.google.com/assets/colab-badge.svg\" alt=\"Open In Colab\"/></a>"
      ]
    },
    {
      "cell_type": "code",
      "metadata": {
        "id": "qKT4j9HF0BNR",
        "colab_type": "code",
        "outputId": "4cc09db9-df1a-41ee-b93d-77d2fd533585",
        "colab": {
          "base_uri": "https://localhost:8080/",
          "height": 34
        }
      },
      "source": [
        "\n",
        "#Connecting the notebook to the Drive\n",
        "from google.colab import drive\n",
        "drive.mount('/content/gdrive')"
      ],
      "execution_count": 1,
      "outputs": [
        {
          "output_type": "stream",
          "text": [
            "Drive already mounted at /content/gdrive; to attempt to forcibly remount, call drive.mount(\"/content/gdrive\", force_remount=True).\n"
          ],
          "name": "stdout"
        }
      ]
    },
    {
      "cell_type": "code",
      "metadata": {
        "id": "QhExwgEW1P4c",
        "colab_type": "code",
        "colab": {}
      },
      "source": [
        "#Import the gdrive\n",
        "from google.colab import drive\n",
        "from google.colab import files"
      ],
      "execution_count": 0,
      "outputs": []
    },
    {
      "cell_type": "code",
      "metadata": {
        "id": "OcM_qBlB1SQJ",
        "colab_type": "code",
        "colab": {}
      },
      "source": [
        "#Libraries for preprocessing\n",
        "%matplotlib inline \n",
        "import matplotlib.pyplot as plt\n",
        "import matplotlib.image as mpimg\n",
        "import six.moves.urllib as urllib\n",
        "import numpy as np\n",
        "import csv\n",
        "import cv2\n",
        "import glob\n",
        "import os\n",
        "import sys"
      ],
      "execution_count": 0,
      "outputs": []
    },
    {
      "cell_type": "code",
      "metadata": {
        "id": "JdATGAPv1XGP",
        "colab_type": "code",
        "outputId": "67042782-b9e2-4415-9518-896d6f0af3d0",
        "colab": {
          "base_uri": "https://localhost:8080/",
          "height": 34
        }
      },
      "source": [
        "#Importing the train set and labels\n",
        "trainsetX=[]\n",
        "path = '/content/gdrive/My Drive/assignment/TL/'\n",
        "\n",
        "\n",
        "for filename in glob.glob(path + '/*.jpeg'):\n",
        "    img= cv2.imread(filename,0)\n",
        "    img = np.asarray(img)\n",
        "    trainsetX.append(img)\n",
        "    \n",
        "print(len(trainsetX))"
      ],
      "execution_count": 4,
      "outputs": [
        {
          "output_type": "stream",
          "text": [
            "161\n"
          ],
          "name": "stdout"
        }
      ]
    },
    {
      "cell_type": "code",
      "metadata": {
        "id": "pK7PGreT1BXO",
        "colab_type": "code",
        "outputId": "f32eb721-38b1-4159-add9-c2a328392f8e",
        "colab": {
          "base_uri": "https://localhost:8080/",
          "height": 168
        }
      },
      "source": [
        "#FORM THE NUMPY ARRAY FROM THE LIST OF TRIANING LABELS\n",
        "Train_Images = np.array(trainsetX) \n",
        "print(len(Train_Images))\n",
        "\n",
        "#print(Train_Images[0].shape)\n",
        "no_images = len(Train_Images)\n",
        "nimg = Train_Images.shape\n",
        "nR = Train_Images[2].shape[0]\n",
        "nC = Train_Images[2].shape[1]\n",
        "plt.imshow(Train_Images[2])\n",
        "print(nimg)\n",
        "print(nR)\n",
        "print(nC)"
      ],
      "execution_count": 5,
      "outputs": [
        {
          "output_type": "stream",
          "text": [
            "161\n",
            "(161,)\n",
            "80\n",
            "564\n"
          ],
          "name": "stdout"
        },
        {
          "output_type": "display_data",
          "data": {
            "image/png": "[encoded data removed]",
            "text/plain": [
              "<Figure size 432x288 with 1 Axes>"
            ]
          },
          "metadata": {
            "tags": []
          }
        }
      ]
    },
    {
      "cell_type": "code",
      "metadata": {
        "id": "zGDzrSRSn3oe",
        "colab_type": "code",
        "colab": {}
      },
      "source": [
        "#nR= 80\n",
        "#nC=564"
      ],
      "execution_count": 0,
      "outputs": []
    },
    {
      "cell_type": "code",
      "metadata": {
        "id": "zMCF2e0Icf44",
        "colab_type": "code",
        "colab": {}
      },
      "source": [
        "#VISUALIZATION OF THE DATASET\n",
        "img = Train_Images[80]\n",
        "img.shape\n",
        "height, width = img.shape[:2]\n",
        "img = cv2.resize(img,(3*width,height), interpolation = cv2.INTER_CUBIC)#plt.imshow(A)"
      ],
      "execution_count": 0,
      "outputs": []
    },
    {
      "cell_type": "code",
      "metadata": {
        "id": "7B7foPve4xmT",
        "colab_type": "code",
        "outputId": "ef518d5e-6a56-46a0-989d-648a702bd7d8",
        "colab": {
          "base_uri": "https://localhost:8080/",
          "height": 85
        }
      },
      "source": [
        "plt.imshow(img)\n",
        "img.shape"
      ],
      "execution_count": 8,
      "outputs": [
        {
          "output_type": "execute_result",
          "data": {
            "text/plain": [
              "(80, 1692)"
            ]
          },
          "metadata": {
            "tags": []
          },
          "execution_count": 8
        },
        {
          "output_type": "display_data",
          "data": {
            "image/png": "[encoded data removed]",
            "text/plain": [
              "<Figure size 432x288 with 1 Axes>"
            ]
          },
          "metadata": {
            "tags": []
          }
        }
      ]
    },
    {
      "cell_type": "code",
      "metadata": {
        "id": "KP4dpvhilUDn",
        "colab_type": "code",
        "outputId": "689ef1b9-2d3e-4090-9108-72b61a343aba",
        "colab": {
          "base_uri": "https://localhost:8080/",
          "height": 85
        }
      },
      "source": [
        "kernel = np.ones((5,5),np.uint8)\n",
        "img_grad = cv2.morphologyEx(img, cv2.MORPH_GRADIENT, kernel)\n",
        "plt.imshow(img_grad)"
      ],
      "execution_count": 9,
      "outputs": [
        {
          "output_type": "execute_result",
          "data": {
            "text/plain": [
              "<matplotlib.image.AxesImage at 0x7fd327fde5f8>"
            ]
          },
          "metadata": {
            "tags": []
          },
          "execution_count": 9
        },
        {
          "output_type": "display_data",
          "data": {
            "image/png": "[encoded data removed]",
            "text/plain": [
              "<Figure size 432x288 with 1 Axes>"
            ]
          },
          "metadata": {
            "tags": []
          }
        }
      ]
    },
    {
      "cell_type": "code",
      "metadata": {
        "id": "TetozNMn1ZRN",
        "colab_type": "code",
        "outputId": "36ec74ce-ab33-4f6f-a8dd-b77d5d13c2c8",
        "colab": {
          "base_uri": "https://localhost:8080/",
          "height": 85
        }
      },
      "source": [
        "_,img_bin = cv2.threshold(img_grad,0,255,cv2.THRESH_OTSU)\n",
        "plt.imshow(img_bin)"
      ],
      "execution_count": 10,
      "outputs": [
        {
          "output_type": "execute_result",
          "data": {
            "text/plain": [
              "<matplotlib.image.AxesImage at 0x7fd327fb2e80>"
            ]
          },
          "metadata": {
            "tags": []
          },
          "execution_count": 10
        },
        {
          "output_type": "display_data",
          "data": {
            "image/png": "[encoded data removed]",
            "text/plain": [
              "<Figure size 432x288 with 1 Axes>"
            ]
          },
          "metadata": {
            "tags": []
          }
        }
      ]
    },
    {
      "cell_type": "code",
      "metadata": {
        "id": "s4dyWNy7bYvR",
        "colab_type": "code",
        "outputId": "5c2d67bd-6d34-4ca2-f654-9d9ad7112ce9",
        "colab": {
          "base_uri": "https://localhost:8080/",
          "height": 85
        }
      },
      "source": [
        "_,contours,hierarchy = cv2.findContours(img_bin,cv2.RETR_LIST,cv2.CHAIN_APPROX_SIMPLE)\n",
        "imgs = []\n",
        "for i in range(hierarchy.shape[1]):\n",
        "    x,y,w,h = cv2.boundingRect(contours[i])\n",
        "    if(not (h < 15 or w < 15)):\n",
        "        count = cv2.countNonZero(img_bin[y:y+h,x:x+w])\n",
        "        r = count/(w*h)\n",
        "        #if (r>0.25):\n",
        "        cropped = img[y:y+h,x:x+w]\n",
        "        imgs.append(cropped)\n",
        "        cv2.rectangle(img,(x, y), (x+w, y+h), (0,0 ,255), 3);\n",
        "         \n",
        "plt.imshow(img)        \n"
      ],
      "execution_count": 11,
      "outputs": [
        {
          "output_type": "execute_result",
          "data": {
            "text/plain": [
              "<matplotlib.image.AxesImage at 0x7fd327f12cc0>"
            ]
          },
          "metadata": {
            "tags": []
          },
          "execution_count": 11
        },
        {
          "output_type": "display_data",
          "data": {
            "image/png": "[encoded data removed]",
            "text/plain": [
              "<Figure size 432x288 with 1 Axes>"
            ]
          },
          "metadata": {
            "tags": []
          }
        }
      ]
    },
    {
      "cell_type": "code",
      "metadata": {
        "id": "dde0SdEqsBmY",
        "colab_type": "code",
        "outputId": "4d6bc1b5-6d72-47c0-cb6d-f973661a9aab",
        "colab": {
          "base_uri": "https://localhost:8080/",
          "height": 262
        }
      },
      "source": [
        "plt.imshow(imgs[1])      \n"
      ],
      "execution_count": 12,
      "outputs": [
        {
          "output_type": "execute_result",
          "data": {
            "text/plain": [
              "<matplotlib.image.AxesImage at 0x7fd327eeabe0>"
            ]
          },
          "metadata": {
            "tags": []
          },
          "execution_count": 12
        },
        {
          "output_type": "display_data",
          "data": {
            "image/png": "[encoded data removed]",
            "text/plain": [
              "<Figure size 432x288 with 1 Axes>"
            ]
          },
          "metadata": {
            "tags": []
          }
        }
      ]
    },
    {
      "cell_type": "code",
      "metadata": {
        "id": "akVHN8JybYop",
        "colab_type": "code",
        "colab": {}
      },
      "source": [
        "\n",
        "img = cv2.resize(img,(width,3*height), interpolation = cv2.INTER_CUBIC)#plt.imshow(A)"
      ],
      "execution_count": 0,
      "outputs": []
    },
    {
      "cell_type": "code",
      "metadata": {
        "id": "E8fyNL-bbYf7",
        "colab_type": "code",
        "outputId": "2dcb0ce1-c257-4d43-c7e7-4773f1884964",
        "colab": {
          "base_uri": "https://localhost:8080/",
          "height": 211
        }
      },
      "source": [
        "plt.imshow(img)      \n"
      ],
      "execution_count": 14,
      "outputs": [
        {
          "output_type": "execute_result",
          "data": {
            "text/plain": [
              "<matplotlib.image.AxesImage at 0x7fd327e427b8>"
            ]
          },
          "metadata": {
            "tags": []
          },
          "execution_count": 14
        },
        {
          "output_type": "display_data",
          "data": {
            "image/png": "[encoded data removed]",
            "text/plain": [
              "<Figure size 432x288 with 1 Axes>"
            ]
          },
          "metadata": {
            "tags": []
          }
        }
      ]
    },
    {
      "cell_type": "code",
      "metadata": {
        "id": "Ao5j8lEZl2K6",
        "colab_type": "code",
        "colab": {}
      },
      "source": [
        "# to detect the numbers from all the images\n",
        "detected_image=[]\n",
        "\n",
        "def detect(Train_Images):\n",
        "  for img in Train_Images :\n",
        "      img = Train_Images[80]\n",
        "      img.shape\n",
        "      height, width = img.shape[:2]\n",
        "      img = cv2.resize(img,(3*width,height), interpolation = cv2.INTER_CUBIC)#plt.imshow(A)\n",
        "      kernel = np.ones((5,5),np.uint8)\n",
        "      img_grad = cv2.morphologyEx(img, cv2.MORPH_GRADIENT, kernel)\n",
        "      _,img_bin = cv2.threshold(img_grad,0,255,cv2.THRESH_OTSU)\n",
        "      _,contours,hierarchy = cv2.findContours(img_bin,cv2.RETR_LIST,cv2.CHAIN_APPROX_SIMPLE)\n",
        "      imgs = []\n",
        "      for i in range(hierarchy.shape[1]):\n",
        "          x,y,w,h = cv2.boundingRect(contours[i])\n",
        "          if(not (h < 15 or w < 15)):\n",
        "               count = cv2.countNonZero(img_bin[y:y+h,x:x+w])\n",
        "               r = count/(w*h)\n",
        "               #if (r>0.25):\n",
        "               cropped = img[y:y+h,x:x+w]\n",
        "               imgs.append(cropped)\n",
        "               cv2.rectangle(img,(x, y), (x+w, y+h), (0,0 ,255), 3);\n",
        "      detected_image.append(imgs)        \n",
        "\n",
        "\n",
        "detect(Train_Images)\n"
      ],
      "execution_count": 0,
      "outputs": []
    },
    {
      "cell_type": "code",
      "metadata": {
        "id": "Q96zuhLqtTbR",
        "colab_type": "code",
        "outputId": "17d1d6a6-ba6b-4d05-b5e9-7e631a4e6df3",
        "colab": {
          "base_uri": "https://localhost:8080/",
          "height": 4150
        }
      },
      "source": [
        "print(len(detected_image))\n",
        "print((detected_image[0]))"
      ],
      "execution_count": 16,
      "outputs": [
        {
          "output_type": "stream",
          "text": [
            "161\n",
            "[array([[  0,   0,   0,   0,   0,   0,   0,   0,   0,   0,   0,   0,   0,\n",
            "          0,   0,   0,   0,   0,   0,   0,   0,   0,   0,   0,   0],\n",
            "       [  0,   0,   0,   0,   0,   0,   0,   0,   0,   0,   0,   0,   0,\n",
            "          0,   0,   0,   0,   0,   0,   0,   0,   0,   0,   0,   0],\n",
            "       [  0,   0,   0,   0,   0,   0,   0,   0,   0,   0,   0,   0,   0,\n",
            "          0,   0,   0,   0,   0,   0,   0,   0,   0,   0,   0,   0],\n",
            "       [  0,   0,   0,  94,  71,  68,  69,  70,  75,  79,  77,  73,  70,\n",
            "         71,  73,  76,  78,  80,  81,  72,  61,  77, 125,   0,   0],\n",
            "       [  0,   0,   0,  96,  87,  80,  74,  71,  72,  73,  73,  73,  75,\n",
            "         81,  88,  91,  89,  83,  78,  70,  64,  80, 121,   0,   0],\n",
            "       [  0,   0,   0,  85,  85,  88,  89,  88,  85,  82,  79,  77,  76,\n",
            "         76,  78,  81,  86,  92,  95,  93,  89,  88,  86,   0,   0],\n",
            "       [  0,   0,   0,  77,  78,  81,  80,  74,  66,  62,  65,  73,  80,\n",
            "         84,  85,  86,  87,  88,  86,  82,  78,  74,  64,   0,   0],\n",
            "       [  0,   0,   0,  80,  78,  76,  75,  76,  79,  81,  81,  81,  80,\n",
            "         80,  79,  79,  79,  79,  79,  79,  79,  80,  73,   0,   0],\n",
            "       [  0,   0,   0,  79,  80,  81,  81,  79,  77,  75,  74,  74,  74,\n",
            "         72,  71,  71,  73,  76,  79,  80,  79,  79,  70,   0,   0],\n",
            "       [  0,   0,   0,  79,  79,  80,  80,  78,  76,  74,  73,  74,  74,\n",
            "         74,  73,  73,  73,  74,  74,  74,  73,  74,  67,   0,   0],\n",
            "       [  0,   0,   0,  77,  76,  76,  76,  76,  75,  75,  75,  76,  76,\n",
            "         75,  74,  73,  73,  73,  74,  74,  74,  75,  67,   0,   0],\n",
            "       [  0,   0,   0,  75,  74,  74,  73,  72,  70,  70,  71,  73,  75,\n",
            "         75,  74,  74,  74,  75,  76,  77,  77,  79,  72,   0,   0],\n",
            "       [  0,   0,   0,  73,  74,  75,  76,  76,  75,  75,  76,  76,  77,\n",
            "         77,  77,  77,  78,  80,  80,  79,  77,  76,  67,   0,   0],\n",
            "       [  0,   0,   0,  73,  74,  75,  78,  81,  84,  86,  86,  85,  83,\n",
            "         81,  79,  77,  74,  73,  74,  80,  87,  90,  77,   0,   0],\n",
            "       [  0,   0,   0,  78,  78,  79,  81,  86,  91,  94,  92,  86,  82,\n",
            "         81,  82,  83,  82,  81,  79,  77,  76,  75,  66,   0,   0],\n",
            "       [  0,   0,   0,  72,  76,  82,  86,  85,  80,  77,  77,  80,  81,\n",
            "         80,  78,  77,  78,  80,  82,  83,  84,  85,  78,   0,   0],\n",
            "       [  0,   0,   0,  73,  79,  86,  91,  92,  90,  86,  82,  78,  74,\n",
            "         72,  71,  71,  70,  69,  70,  72,  75,  81,  81,   0,   0],\n",
            "       [  0,   0,   0,  67,  66,  68,  71,  73,  74,  76,  77,  78,  78,\n",
            "         78,  78,  78,  78,  78,  79,  72,  65,  82, 128,   0,   0],\n",
            "       [  0,   0,   0,  78,  60,  68,  76,  77,  78,  78,  76,  74,  72,\n",
            "         72,  73,  75,  77,  79,  80,  69,  58,  72, 120,   0,   0],\n",
            "       [  0,   0,   0,  94,  71,  71,  72,  69,  71,  73,  76,  79,  80,\n",
            "         79,  76,  73,  71,  70,  73,  72,  72,  94, 141,   0,   0],\n",
            "       [  0,   0,   0,   0,   0,   0,   0,   0,   0,   0,   0,   0,   0,\n",
            "          0,   0,   0,   0,   0,   0,   0,   0,   0,   0,   0,   0],\n",
            "       [  0,   0,   0,   0,   0,   0,   0,   0,   0,   0,   0,   0,   0,\n",
            "          0,   0,   0,   0,   0,   0,   0,   0,   0,   0,   0,   0]],\n",
            "      dtype=uint8), array([[ 0,  0,  0, ...,  0,  0,  0],\n",
            "       [ 0,  0,  0, ...,  0,  0,  0],\n",
            "       [ 0,  0,  0, ...,  0,  0,  0],\n",
            "       ...,\n",
            "       [ 0,  0,  0, ..., 73,  0,  0],\n",
            "       [ 0,  0,  0, ...,  0,  0,  0],\n",
            "       [ 0,  0,  0, ...,  0,  0,  0]], dtype=uint8), array([[ 0,  0,  0, ...,  0,  0,  0],\n",
            "       [ 0,  0,  0, ...,  0,  0,  0],\n",
            "       [ 0,  0,  0, ...,  0,  0,  0],\n",
            "       ...,\n",
            "       [ 0,  0,  0, ..., 78,  0,  0],\n",
            "       [ 0,  0,  0, ...,  0,  0,  0],\n",
            "       [ 0,  0,  0, ...,  0,  0,  0]], dtype=uint8), array([[ 0,  0,  0, ...,  0,  0,  0],\n",
            "       [ 0,  0,  0, ...,  0,  0,  0],\n",
            "       [ 0,  0,  0, ...,  0,  0,  0],\n",
            "       ...,\n",
            "       [ 0,  0,  0, ..., 72,  0,  0],\n",
            "       [ 0,  0,  0, ...,  0,  0,  0],\n",
            "       [ 0,  0,  0, ...,  0,  0,  0]], dtype=uint8), array([[  0,   0,   0, ...,   0,   0,   0],\n",
            "       [  0,   0,   0, ...,   0,   0,   0],\n",
            "       [  0,   0,   0, ...,   0,   0,   0],\n",
            "       ...,\n",
            "       [  0,   0,   0, ..., 188,   0,   0],\n",
            "       [  0,   0,   0, ...,   0,   0,   0],\n",
            "       [  0,   0,   0, ...,   0,   0,   0]], dtype=uint8), array([[ 0,  0,  0, ...,  0,  0,  0],\n",
            "       [ 0,  0,  0, ...,  0,  0,  0],\n",
            "       [ 0,  0,  0, ...,  0,  0,  0],\n",
            "       ...,\n",
            "       [ 0,  0,  0, ..., 66,  0,  0],\n",
            "       [ 0,  0,  0, ...,  0,  0,  0],\n",
            "       [ 0,  0,  0, ...,  0,  0,  0]], dtype=uint8), array([[  0,   0,   0, ...,   0,   0,   0],\n",
            "       [  0,   0,   0, ...,   0,   0,   0],\n",
            "       [  0,   0,   0, ...,   0,   0,   0],\n",
            "       ...,\n",
            "       [  0,   0,   0, ..., 173,   0,   0],\n",
            "       [  0,   0,   0, ...,   0,   0,   0],\n",
            "       [  0,   0,   0, ...,   0,   0,   0]], dtype=uint8), array([[ 0,  0,  0, ...,  0,  0,  0],\n",
            "       [ 0,  0,  0, ...,  0,  0,  0],\n",
            "       [ 0,  0,  0, ...,  0,  0,  0],\n",
            "       ...,\n",
            "       [ 0,  0,  0, ..., 53,  0,  0],\n",
            "       [ 0,  0,  0, ...,  0,  0,  0],\n",
            "       [ 0,  0,  0, ...,  0,  0,  0]], dtype=uint8), array([[ 0,  0,  0, ...,  0,  0,  0],\n",
            "       [ 0,  0,  0, ...,  0,  0,  0],\n",
            "       [ 0,  0,  0, ...,  0,  0,  0],\n",
            "       ...,\n",
            "       [ 0,  0,  0, ..., 42,  0,  0],\n",
            "       [ 0,  0,  0, ...,  0,  0,  0],\n",
            "       [ 0,  0,  0, ...,  0,  0,  0]], dtype=uint8), array([[ 0,  0,  0, ...,  0,  0,  0],\n",
            "       [ 0,  0,  0, ...,  0,  0,  0],\n",
            "       [ 0,  0,  0, ...,  0,  0,  0],\n",
            "       ...,\n",
            "       [ 0,  0,  0, ..., 43,  0,  0],\n",
            "       [ 0,  0,  0, ...,  0,  0,  0],\n",
            "       [ 0,  0,  0, ...,  0,  0,  0]], dtype=uint8), array([[ 0,  0,  0, ...,  0,  0,  0],\n",
            "       [ 0,  0,  0, ...,  0,  0,  0],\n",
            "       [ 0,  0,  0, ...,  0,  0,  0],\n",
            "       ...,\n",
            "       [ 0,  0,  0, ..., 64,  0,  0],\n",
            "       [ 0,  0,  0, ...,  0,  0,  0],\n",
            "       [ 0,  0,  0, ...,  0,  0,  0]], dtype=uint8), array([[ 0,  0,  0, ...,  0,  0,  0],\n",
            "       [ 0,  0,  0, ...,  0,  0,  0],\n",
            "       [ 0,  0,  0, ...,  0,  0,  0],\n",
            "       ...,\n",
            "       [ 0,  0,  0, ..., 61,  0,  0],\n",
            "       [ 0,  0,  0, ...,  0,  0,  0],\n",
            "       [ 0,  0,  0, ...,  0,  0,  0]], dtype=uint8), array([[ 0,  0,  0, ...,  0,  0,  0],\n",
            "       [ 0,  0,  0, ...,  0,  0,  0],\n",
            "       [ 0,  0,  0, ...,  0,  0,  0],\n",
            "       ...,\n",
            "       [ 0,  0,  0, ..., 66,  0,  0],\n",
            "       [ 0,  0,  0, ...,  0,  0,  0],\n",
            "       [ 0,  0,  0, ...,  0,  0,  0]], dtype=uint8), array([[ 0,  0,  0, ...,  0,  0,  0],\n",
            "       [ 0,  0,  0, ...,  0,  0,  0],\n",
            "       [ 0,  0,  0, ...,  0,  0,  0],\n",
            "       ...,\n",
            "       [ 0,  0,  0, ..., 58,  0,  0],\n",
            "       [ 0,  0,  0, ...,  0,  0,  0],\n",
            "       [ 0,  0,  0, ...,  0,  0,  0]], dtype=uint8), array([[ 0,  0,  0, ...,  0,  0,  0],\n",
            "       [ 0,  0,  0, ...,  0,  0,  0],\n",
            "       [ 0,  0,  0, ...,  0,  0,  0],\n",
            "       ...,\n",
            "       [ 0,  0,  0, ..., 84,  0,  0],\n",
            "       [ 0,  0,  0, ...,  0,  0,  0],\n",
            "       [ 0,  0,  0, ...,  0,  0,  0]], dtype=uint8), array([[ 0,  0,  0, ...,  0,  0,  0],\n",
            "       [ 0,  0,  0, ...,  0,  0,  0],\n",
            "       [ 0,  0,  0, ...,  0,  0,  0],\n",
            "       ...,\n",
            "       [ 0,  0,  0, ..., 79,  0,  0],\n",
            "       [ 0,  0,  0, ...,  0,  0,  0],\n",
            "       [ 0,  0,  0, ...,  0,  0,  0]], dtype=uint8), array([[  0,   0,   0, ...,   0,   0,   0],\n",
            "       [  0,   0,   0, ...,   0,   0,   0],\n",
            "       [  0,   0,   0, ...,   0,   0,   0],\n",
            "       ...,\n",
            "       [  0,   0,   0, ..., 185,   0,   0],\n",
            "       [  0,   0,   0, ...,   0,   0,   0],\n",
            "       [  0,   0,   0, ...,   0,   0,   0]], dtype=uint8), array([[  0,   0,   0,   0,   0,   0,   0,   0,   0,   0,   0,   0,   0,\n",
            "          0,   0,   0,   0,   0,   0,   0,   0,   0,   0,   0,   0,   0,\n",
            "          0,   0,   0,   0,   0,   0,   0,   0,   0,   0,   0],\n",
            "       [  0,   0,   0,   0,   0,   0,   0,   0,   0,   0,   0,   0,   0,\n",
            "          0,   0,   0,   0,   0,   0,   0,   0,   0,   0,   0,   0,   0,\n",
            "          0,   0,   0,   0,   0,   0,   0,   0,   0,   0,   0],\n",
            "       [  0,   0,   0,   0,   0,   0,   0,   0,   0,   0,   0,   0,   0,\n",
            "          0,   0,   0,   0,   0,   0,   0,   0,   0,   0,   0,   0,   0,\n",
            "          0,   0,   0,   0,   0,   0,   0,   0,   0,   0,   0],\n",
            "       [  0,   0,   0,  79, 127, 179, 226, 247, 244, 239, 246, 249, 230,\n",
            "        184, 132,  88,  65,  65,  89, 133, 185, 230, 247, 241, 234, 241,\n",
            "        248, 231, 187, 135,  88,  66,  67,  70,  70,   0,   0],\n",
            "       [  0,   0,   0,  86, 133, 187, 232, 255, 255, 229, 180, 123,  74,\n",
            "         56,  65,  73,  74,  75,  74,  70,  66,  64,  57,  53,  73, 121,\n",
            "        177, 225, 252, 253, 232, 192, 143,  97,  74,   0,   0],\n",
            "       [  0,   0,   0, 232, 255, 255, 232, 186, 133,  85,  65,  68,  72,\n",
            "         70,  69,  69,  68,  68,  68,  68,  68,  68,  66,  65,  64,  56,\n",
            "         49,  70, 123, 184, 236, 255, 255, 232, 183,   0,   0],\n",
            "       [  0,   0,   0, 228, 255, 255, 235, 195, 146,  99,  72,  67,  63,\n",
            "         59,  62,  65,  66,  68,  68,  67,  65,  64,  63,  63,  64,  57,\n",
            "         51,  70, 119, 176, 224, 248, 246, 220, 172,   0,   0],\n",
            "       [  0,   0,   0, 240, 255, 255, 235, 186, 130,  80,  60,  66,  71,\n",
            "         68,  66,  65,  64,  64,  64,  65,  67,  68,  69,  69,  69,  61,\n",
            "         53,  71, 119, 175, 224, 252, 254, 230, 180,   0,   0],\n",
            "       [  0,   0,   0, 235, 255, 255, 233, 188, 135,  87,  66,  68,  72,\n",
            "         72,  74,  74,  70,  65,  63,  68,  76,  80,  77,  70,  65,  57,\n",
            "         52,  72, 121, 177, 225, 251, 252, 226, 176,   0,   0],\n",
            "       [  0,   0,   0, 239, 255, 255, 237, 189, 134,  84,  62,  66,  71,\n",
            "         73,  77,  80,  78,  74,  72,  75,  80,  83,  81,  77,  73,  63,\n",
            "         54,  71, 119, 176, 225, 251, 252, 227, 178,   0,   0],\n",
            "       [  0,   0,   0,  79, 125, 179, 225, 252, 255, 231, 180, 118,  68,\n",
            "         54,  68,  81,  83,  84,  83,  82,  81,  79,  69,  60,  77, 126,\n",
            "        185, 235, 255, 255, 236, 193, 143,  95,  69,   0,   0],\n",
            "       [  0,   0,   0,  72,  74,  76,  99, 142, 188, 229, 248, 245, 241,\n",
            "        249, 255, 235, 175, 106,  75, 110, 182, 244, 255, 255, 247, 251,\n",
            "        253, 231, 182, 128,  81,  63,  71,  77,  74,   0,   0],\n",
            "       [  0,   0,   0,  63,  62,  62,  63,  54,  45,  65, 118, 181, 235,\n",
            "        255, 248, 240, 239, 237, 236, 236, 237, 238, 246, 253, 235, 189,\n",
            "        135,  86,  64,  66,  70,  71,  74,  76,  74,   0,   0],\n",
            "       [  0,   0,   0,   0,   0,   0,   0,   0,   0,   0,   0,   0,   0,\n",
            "          0,   0,   0,   0,   0,   0,   0,   0,   0,   0,   0,   0,   0,\n",
            "          0,   0,   0,   0,   0,   0,   0,   0,   0,   0,   0],\n",
            "       [  0,   0,   0,   0,   0,   0,   0,   0,   0,   0,   0,   0,   0,\n",
            "          0,   0,   0,   0,   0,   0,   0,   0,   0,   0,   0,   0,   0,\n",
            "          0,   0,   0,   0,   0,   0,   0,   0,   0,   0,   0]],\n",
            "      dtype=uint8), array([[  0,   0,   0,   0,   0,   0,   0,   0,   0,   0,   0,   0,   0,\n",
            "          0,   0,   0,   0,   0,   0,   0,   0,   0,   0,   0,   0,   0,\n",
            "          0,   0,   0,   0,   0,   0,   0,   0,   0,   0,   0],\n",
            "       [  0,   0,   0,   0,   0,   0,   0,   0,   0,   0,   0,   0,   0,\n",
            "          0,   0,   0,   0,   0,   0,   0,   0,   0,   0,   0,   0,   0,\n",
            "          0,   0,   0,   0,   0,   0,   0,   0,   0,   0,   0],\n",
            "       [  0,   0,   0,   0,   0,   0,   0,   0,   0,   0,   0,   0,   0,\n",
            "          0,   0,   0,   0,   0,   0,   0,   0,   0,   0,   0,   0,   0,\n",
            "          0,   0,   0,   0,   0,   0,   0,   0,   0,   0,   0],\n",
            "       [  0,   0,   0,  90, 136, 188, 234, 253, 248, 241, 246, 248, 230,\n",
            "        188, 140,  99,  77,  77,  99, 141, 189, 231, 246, 239, 232, 240,\n",
            "        248, 231, 184, 130,  84,  69,  79,  88,  89,   0,   0],\n",
            "       [  0,   0,   0,  86, 136, 192, 239, 255, 255, 235, 191, 140,  96,\n",
            "         81,  88,  95,  93,  90,  88,  88,  89,  90,  81,  72,  88, 135,\n",
            "        191, 237, 255, 255, 231, 190, 142, 100,  81,   0,   0],\n",
            "       [  0,   0,   0, 229, 254, 253, 231, 191, 143, 100,  81,  83,  86,\n",
            "         85,  86,  86,  85,  84,  82,  80,  79,  78,  77,  77,  77,  68,\n",
            "         60,  78, 128, 187, 236, 255, 255, 229, 185,   0,   0],\n",
            "       [  0,   0,   0, 238, 255, 255, 237, 196, 149, 105,  85,  86,  87,\n",
            "         84,  83,  83,  82,  83,  83,  84,  85,  85,  84,  83,  83,  76,\n",
            "         71,  88, 133, 186, 230, 253, 252, 228, 185,   0,   0],\n",
            "       [  0,   0,   0, 233, 255, 255, 233, 195, 151, 108,  85,  81,  79,\n",
            "         77,  79,  83,  86,  89,  90,  87,  83,  79,  76,  75,  76,  72,\n",
            "         68,  87, 131, 180, 223, 248, 250, 229, 185,   0,   0],\n",
            "       [  0,   0,   0, 244, 255, 255, 237, 199, 156, 114,  91,  87,  84,\n",
            "         81,  83,  84,  83,  82,  82,  82,  83,  85,  87,  89,  91,  84,\n",
            "         75,  90, 134, 187, 231, 255, 255, 231, 186,   0,   0],\n",
            "       [  0,   0,   0, 229, 253, 253, 232, 192, 145, 101,  80,  79,  81,\n",
            "         82,  87,  90,  88,  84,  82,  84,  87,  90,  91,  91,  90,  82,\n",
            "         73,  88, 132, 185, 229, 251, 250, 226, 182,   0,   0],\n",
            "       [  0,   0,   0,  75, 122, 180, 229, 253, 252, 229, 188, 140,  97,\n",
            "         80,  84,  87,  82,  78,  75,  75,  77,  79,  72,  64,  83, 135,\n",
            "        195, 244, 255, 255, 232, 190, 142, 100,  81,   0,   0],\n",
            "       [  0,   0,   0,  93,  91,  90, 108, 149, 194, 234, 250, 246, 240,\n",
            "        247, 252, 235, 182, 122,  95, 128, 192, 246, 255, 243, 230, 237,\n",
            "        247, 234, 192, 142,  98,  81,  86,  91,  89,   0,   0],\n",
            "       [  0,   0,   0,  80,  81,  83,  84,  75,  65,  81, 129, 185, 234,\n",
            "        252, 245, 237, 236, 234, 233, 233, 234, 235, 243, 250, 237, 201,\n",
            "        159, 117,  93,  87,  84,  81,  84,  86,  85,   0,   0],\n",
            "       [  0,   0,   0,   0,   0,   0,   0,   0,   0,   0,   0,   0,   0,\n",
            "          0,   0,   0,   0,   0,   0,   0,   0,   0,   0,   0,   0,   0,\n",
            "          0,   0,   0,   0,   0,   0,   0,   0,   0,   0,   0],\n",
            "       [  0,   0,   0,   0,   0,   0,   0,   0,   0,   0,   0,   0,   0,\n",
            "          0,   0,   0,   0,   0,   0,   0,   0,   0,   0,   0,   0,   0,\n",
            "          0,   0,   0,   0,   0,   0,   0,   0,   0,   0,   0]],\n",
            "      dtype=uint8), array([[ 0,  0,  0, ...,  0,  0,  0],\n",
            "       [ 0,  0,  0, ...,  0,  0,  0],\n",
            "       [ 0,  0,  0, ...,  0,  0,  0],\n",
            "       ...,\n",
            "       [ 0,  0,  0, ..., 61,  0,  0],\n",
            "       [ 0,  0,  0, ...,  0,  0,  0],\n",
            "       [ 0,  0,  0, ...,  0,  0,  0]], dtype=uint8)]\n"
          ],
          "name": "stdout"
        }
      ]
    },
    {
      "cell_type": "markdown",
      "metadata": {
        "id": "VvyXavCkGuRo",
        "colab_type": "text"
      },
      "source": [
        "#Recognition training"
      ]
    },
    {
      "cell_type": "code",
      "metadata": {
        "id": "wFalLZmdGie6",
        "colab_type": "code",
        "outputId": "657f2f40-25a8-4317-93a2-676d516c4356",
        "colab": {
          "base_uri": "https://localhost:8080/",
          "height": 34
        }
      },
      "source": [
        "from sklearn.datasets import load_digits\n",
        "digits = load_digits()\n",
        "print(digits.data.shape)"
      ],
      "execution_count": 17,
      "outputs": [
        {
          "output_type": "stream",
          "text": [
            "(1797, 64)\n"
          ],
          "name": "stdout"
        }
      ]
    },
    {
      "cell_type": "code",
      "metadata": {
        "id": "sAfR3G5wHUY1",
        "colab_type": "code",
        "outputId": "c1236575-a82e-41e2-a05e-8c7233dbb8bb",
        "colab": {
          "base_uri": "https://localhost:8080/",
          "height": 292
        }
      },
      "source": [
        "plt.gray() \n",
        "plt.matshow(digits.images[4]) \n",
        "plt.show()"
      ],
      "execution_count": 18,
      "outputs": [
        {
          "output_type": "display_data",
          "data": {
            "text/plain": [
              "<Figure size 432x288 with 0 Axes>"
            ]
          },
          "metadata": {
            "tags": []
          }
        },
        {
          "output_type": "display_data",
          "data": {
            "image/png": "[encoded data removed]",
            "text/plain": [
              "<Figure size 288x288 with 1 Axes>"
            ]
          },
          "metadata": {
            "tags": []
          }
        }
      ]
    },
    {
      "cell_type": "code",
      "metadata": {
        "id": "s1x-JS__IW4w",
        "colab_type": "code",
        "outputId": "82524fa6-4558-4baa-ddbb-90bc15eeaa04",
        "colab": {
          "base_uri": "https://localhost:8080/",
          "height": 1642
        }
      },
      "source": [
        "import matplotlib.pyplot as plt\n",
        "\n",
        "# Import datasets, classifiers and performance metrics\n",
        "from sklearn import datasets, svm, metrics\n",
        "\n",
        "# The digits dataset\n",
        "digits = datasets.load_digits()\n",
        "\n",
        "# The data that we are interested in is made of 8x8 images of digits, let's\n",
        "# have a look at the first 4 images, stored in the `images` attribute of the\n",
        "# dataset.  If we were working from image files, we could load them using\n",
        "# matplotlib.pyplot.imread.  Note that each image must have the same size. For these\n",
        "# images, we know which digit they represent: it is given in the 'target' of\n",
        "# the dataset.\n",
        "images_and_labels = list(zip(digits.images, digits.target))\n",
        "for index, (image, label) in enumerate(images_and_labels[:4]):\n",
        "    plt.subplot(2, 4, index + 1)\n",
        "    plt.axis('off')\n",
        "    plt.imshow(image, cmap=plt.cm.gray_r, interpolation='nearest')\n",
        "    plt.title('Training: %i' % label)\n",
        "    plt.show()\n",
        "    \n",
        "print(\"Image Shape  : \", end=\" \")\n",
        "print(digits.images[0].shape)  \n",
        "\n",
        "# To apply a classifier on this data, we need to flatten the image, to\n",
        "# turn the data in a (samples, feature) matrix:\n",
        "n_samples = len(digits.images)\n",
        "data = digits.images.reshape((n_samples, -1))\n",
        "\n",
        "# Create a classifier: a support vector classifier\n",
        "classifier = svm.SVC(gamma=0.001)\n",
        "\n",
        "# We learn the digits on the first half of the digits\n",
        "classifier.fit(data[:n_samples // 2], digits.target[:n_samples // 2])\n",
        "\n",
        "# Now predict the value of the digit on the second half:\n",
        "expected = digits.target[n_samples // 2:]\n",
        "predicted = classifier.predict(data[n_samples // 2:])\n",
        "print(predicted)\n",
        "\n",
        "print(\"Classification report for classifier %s:\\n%s\\n\"\n",
        "      % (classifier, metrics.classification_report(expected, predicted)))\n",
        "print(\"Confusion matrix:\\n%s\" % metrics.confusion_matrix(expected, predicted))\n",
        "\n",
        "images_and_predictions = list(zip(digits.images[n_samples // 2:], predicted))\n",
        "for index, (image, prediction) in enumerate(images_and_predictions[:4]):\n",
        "    plt.subplot(2, 4, index + 5)\n",
        "    plt.axis('off')\n",
        "    plt.imshow(image, cmap=plt.cm.gray_r, interpolation='nearest')\n",
        "    plt.title('Prediction: %i' % prediction)\n",
        "\n",
        "plt.show()"
      ],
      "execution_count": 19,
      "outputs": [
        {
          "output_type": "display_data",
          "data": {
            "image/png": "[encoded data removed]",
            "text/plain": [
              "<Figure size 432x288 with 1 Axes>"
            ]
          },
          "metadata": {
            "tags": []
          }
        },
        {
          "output_type": "display_data",
          "data": {
            "image/png": "[encoded data removed]",
            "text/plain": [
              "<Figure size 432x288 with 1 Axes>"
            ]
          },
          "metadata": {
            "tags": []
          }
        },
        {
          "output_type": "display_data",
          "data": {
            "image/png": "[encoded data removed]",
            "text/plain": [
              "<Figure size 432x288 with 1 Axes>"
            ]
          },
          "metadata": {
            "tags": []
          }
        },
        {
          "output_type": "display_data",
          "data": {
            "image/png": "[encoded data removed]",
            "text/plain": [
              "<Figure size 432x288 with 1 Axes>"
            ]
          },
          "metadata": {
            "tags": []
          }
        },
        {
          "output_type": "stream",
          "text": [
            "Image Shape  :  (8, 8)\n",
            "[8 8 4 9 0 8 9 8 1 2 3 4 5 6 7 8 9 0 1 2 3 4 5 6 7 8 9 0 1 2 3 4 9 6 7 8 9\n",
            " 0 9 5 5 6 5 0 9 8 9 8 4 1 7 7 3 9 1 2 7 8 2 0 1 2 6 3 3 7 3 3 4 6 6 6 4 9\n",
            " 1 5 0 9 5 2 8 2 0 0 1 7 6 3 2 1 4 6 3 1 3 9 1 7 6 8 4 3 1 4 0 5 3 6 9 6 1\n",
            " 7 5 4 4 7 2 8 2 2 5 7 9 5 4 4 9 0 8 9 8 0 1 2 3 4 5 6 7 8 9 0 1 2 3 4 5 6\n",
            " 7 8 9 0 1 2 3 4 5 6 7 8 9 0 9 5 5 6 5 0 9 8 9 8 4 1 7 7 3 5 1 0 0 7 8 2 0\n",
            " 1 2 6 3 3 7 3 3 4 6 6 6 9 9 1 5 0 9 5 2 8 2 0 0 1 7 6 3 2 1 5 4 6 3 1 7 9\n",
            " 1 7 6 8 4 3 1 4 0 5 3 6 9 6 1 7 5 4 4 7 2 8 2 2 5 7 9 5 4 8 8 4 9 0 8 9 8\n",
            " 0 1 2 3 4 5 6 7 8 9 0 1 2 3 4 5 6 7 8 9 0 1 2 3 4 5 6 7 8 9 0 9 5 5 6 5 0\n",
            " 9 8 9 8 4 1 7 7 3 5 1 0 0 2 2 7 8 2 0 1 2 6 3 3 7 3 3 4 6 6 6 4 9 1 5 0 9\n",
            " 5 2 8 2 0 0 1 7 6 3 2 2 7 4 6 3 1 3 9 1 7 6 8 4 3 1 4 0 5 3 6 9 6 8 7 5 4\n",
            " 4 7 2 8 2 2 5 7 9 5 4 8 8 4 9 0 8 9 8 0 9 2 3 4 5 6 7 8 9 0 1 2 3 4 5 6 7\n",
            " 8 9 0 1 2 3 4 5 6 7 8 9 0 9 5 5 6 5 0 9 8 9 8 4 1 7 7 3 5 1 0 0 2 2 7 8 2\n",
            " 0 1 2 6 3 3 7 3 3 4 6 6 6 4 9 1 5 0 9 6 2 8 3 0 0 1 7 6 3 2 1 7 4 6 3 1 3\n",
            " 9 1 7 6 8 4 3 1 4 0 5 3 6 9 6 1 7 5 4 4 7 2 8 2 2 5 7 9 5 4 8 8 4 9 0 8 0\n",
            " 1 2 3 4 5 6 7 8 9 0 1 2 3 4 5 6 7 8 9 0 1 2 3 4 5 6 7 8 9 0 9 5 5 6 5 0 9\n",
            " 8 9 8 4 1 7 7 3 5 1 0 0 2 2 7 8 2 0 1 2 6 3 3 7 3 3 4 6 6 6 4 9 1 5 0 9 5\n",
            " 2 8 2 0 0 1 7 6 3 2 1 7 4 6 3 1 3 9 1 7 6 8 4 3 1 4 0 5 3 6 9 6 1 7 5 4 4\n",
            " 7 2 8 2 2 5 7 9 5 4 8 8 4 9 0 8 9 8 0 1 2 3 4 5 1 7 8 9 0 1 2 3 4 5 6 9 0\n",
            " 1 2 3 4 5 6 7 8 9 4 9 5 5 6 5 0 9 8 9 8 4 1 7 7 3 5 1 0 0 2 2 7 8 2 0 1 2\n",
            " 6 8 7 7 7 3 4 6 6 6 9 9 1 5 0 9 5 2 8 0 1 7 6 3 2 1 7 9 6 3 1 3 9 1 7 6 8\n",
            " 4 3 1 4 0 5 3 6 9 6 1 7 5 4 4 7 2 2 5 7 3 5 9 4 5 0 8 9 8 0 1 2 3 4 5 6 7\n",
            " 8 9 0 1 2 8 4 5 6 7 8 9 0 1 2 5 4 5 6 7 8 9 0 9 5 5 6 5 0 9 8 9 8 4 1 7 7\n",
            " 7 5 1 0 0 2 2 7 8 2 0 1 2 6 8 8 7 5 8 4 6 6 6 4 9 1 5 0 9 5 2 8 2 0 0 1 7\n",
            " 6 3 2 1 7 4 6 3 1 3 9 1 7 6 8 4 5 1 4 0 5 3 6 9 6 1 7 5 4 4 7 2 8 2 2 5 7\n",
            " 9 5 4 8 8 4 9 0 8 9 8]\n",
            "Classification report for classifier SVC(C=1.0, cache_size=200, class_weight=None, coef0=0.0,\n",
            "    decision_function_shape='ovr', degree=3, gamma=0.001, kernel='rbf',\n",
            "    max_iter=-1, probability=False, random_state=None, shrinking=True,\n",
            "    tol=0.001, verbose=False):\n",
            "              precision    recall  f1-score   support\n",
            "\n",
            "           0       1.00      0.99      0.99        88\n",
            "           1       0.99      0.97      0.98        91\n",
            "           2       0.99      0.99      0.99        86\n",
            "           3       0.98      0.87      0.92        91\n",
            "           4       0.99      0.96      0.97        92\n",
            "           5       0.95      0.97      0.96        91\n",
            "           6       0.99      0.99      0.99        91\n",
            "           7       0.96      0.99      0.97        89\n",
            "           8       0.94      1.00      0.97        88\n",
            "           9       0.93      0.98      0.95        92\n",
            "\n",
            "    accuracy                           0.97       899\n",
            "   macro avg       0.97      0.97      0.97       899\n",
            "weighted avg       0.97      0.97      0.97       899\n",
            "\n",
            "\n",
            "Confusion matrix:\n",
            "[[87  0  0  0  1  0  0  0  0  0]\n",
            " [ 0 88  1  0  0  0  0  0  1  1]\n",
            " [ 0  0 85  1  0  0  0  0  0  0]\n",
            " [ 0  0  0 79  0  3  0  4  5  0]\n",
            " [ 0  0  0  0 88  0  0  0  0  4]\n",
            " [ 0  0  0  0  0 88  1  0  0  2]\n",
            " [ 0  1  0  0  0  0 90  0  0  0]\n",
            " [ 0  0  0  0  0  1  0 88  0  0]\n",
            " [ 0  0  0  0  0  0  0  0 88  0]\n",
            " [ 0  0  0  1  0  1  0  0  0 90]]\n"
          ],
          "name": "stdout"
        },
        {
          "output_type": "display_data",
          "data": {
            "image/png": "[encoded data removed]",
            "text/plain": [
              "<Figure size 432x288 with 4 Axes>"
            ]
          },
          "metadata": {
            "tags": []
          }
        }
      ]
    },
    {
      "cell_type": "markdown",
      "metadata": {
        "id": "Ik0cXSSqInVM",
        "colab_type": "text"
      },
      "source": [
        "#Text extraction from image \n"
      ]
    },
    {
      "cell_type": "code",
      "metadata": {
        "id": "vA3GhSVsImMG",
        "colab_type": "code",
        "outputId": "199708aa-9b0d-4a74-b455-5938cedd0d54",
        "colab": {
          "base_uri": "https://localhost:8080/",
          "height": 2830
        }
      },
      "source": [
        "#Function to recognize the the digits and characters in the detection images \n",
        "\n",
        "\n",
        "dim= (digits.images[0].shape[0], digits.images[0].shape[1])# width and height of image\n",
        "print(dim)\n",
        "\n",
        "\n",
        "def classify_me(detected_images):\n",
        "   predicted_values=[]\n",
        "   for i in detected_images:\n",
        "       values=[]\n",
        "       for img in i:\n",
        "         # dim = (width,height) \n",
        "          resized = cv2.resize(img, dim, interpolation = cv2.INTER_AREA) \n",
        "          resized = resized.reshape(1,-1)\n",
        "          predicted = classifier.predict(resized)\n",
        "          values.append(predicted)\n",
        "       predicted_values.append(values)   \n",
        "       print(\" \")   \n",
        "   return predicted    \n",
        "          \n",
        "          \n",
        "\n",
        "#  contains the list of all the classified values.....\n",
        "predicted = classify_me(detected_image) \n",
        "#print(predicted)"
      ],
      "execution_count": 20,
      "outputs": [
        {
          "output_type": "stream",
          "text": [
            "(8, 8)\n",
            " \n",
            " \n",
            " \n",
            " \n",
            " \n",
            " \n",
            " \n",
            " \n",
            " \n",
            " \n",
            " \n",
            " \n",
            " \n",
            " \n",
            " \n",
            " \n",
            " \n",
            " \n",
            " \n",
            " \n",
            " \n",
            " \n",
            " \n",
            " \n",
            " \n",
            " \n",
            " \n",
            " \n",
            " \n",
            " \n",
            " \n",
            " \n",
            " \n",
            " \n",
            " \n",
            " \n",
            " \n",
            " \n",
            " \n",
            " \n",
            " \n",
            " \n",
            " \n",
            " \n",
            " \n",
            " \n",
            " \n",
            " \n",
            " \n",
            " \n",
            " \n",
            " \n",
            " \n",
            " \n",
            " \n",
            " \n",
            " \n",
            " \n",
            " \n",
            " \n",
            " \n",
            " \n",
            " \n",
            " \n",
            " \n",
            " \n",
            " \n",
            " \n",
            " \n",
            " \n",
            " \n",
            " \n",
            " \n",
            " \n",
            " \n",
            " \n",
            " \n",
            " \n",
            " \n",
            " \n",
            " \n",
            " \n",
            " \n",
            " \n",
            " \n",
            " \n",
            " \n",
            " \n",
            " \n",
            " \n",
            " \n",
            " \n",
            " \n",
            " \n",
            " \n",
            " \n",
            " \n",
            " \n",
            " \n",
            " \n",
            " \n",
            " \n",
            " \n",
            " \n",
            " \n",
            " \n",
            " \n",
            " \n",
            " \n",
            " \n",
            " \n",
            " \n",
            " \n",
            " \n",
            " \n",
            " \n",
            " \n",
            " \n",
            " \n",
            " \n",
            " \n",
            " \n",
            " \n",
            " \n",
            " \n",
            " \n",
            " \n",
            " \n",
            " \n",
            " \n",
            " \n",
            " \n",
            " \n",
            " \n",
            " \n",
            " \n",
            " \n",
            " \n",
            " \n",
            " \n",
            " \n",
            " \n",
            " \n",
            " \n",
            " \n",
            " \n",
            " \n",
            " \n",
            " \n",
            " \n",
            " \n",
            " \n",
            " \n",
            " \n",
            " \n",
            " \n",
            " \n",
            " \n",
            " \n",
            " \n",
            " \n"
          ],
          "name": "stdout"
        }
      ]
    }
  ]
}